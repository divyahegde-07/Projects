{
 "cells": [
  {
   "cell_type": "code",
   "execution_count": 1,
   "id": "0ace5685",
   "metadata": {},
   "outputs": [
    {
     "name": "stdout",
     "output_type": "stream",
     "text": [
      "Collecting mysql-connector-python\n",
      "  Obtaining dependency information for mysql-connector-python from https://files.pythonhosted.org/packages/9d/53/346be660c6e32584099923ca5d3307ccac21bf0b753e9a22f67ecc92d859/mysql_connector_python-8.2.0-cp311-cp311-macosx_12_0_arm64.whl.metadata\n",
      "  Downloading mysql_connector_python-8.2.0-cp311-cp311-macosx_12_0_arm64.whl.metadata (2.1 kB)\n",
      "Collecting protobuf<=4.21.12,>=4.21.1 (from mysql-connector-python)\n",
      "  Downloading protobuf-4.21.12-cp37-abi3-macosx_10_9_universal2.whl (486 kB)\n",
      "\u001b[2K     \u001b[90m━━━━━━━━━━━━━━━━━━━━━━━━━━━━━━━━━━━━━━━\u001b[0m \u001b[32m486.2/486.2 kB\u001b[0m \u001b[31m3.1 MB/s\u001b[0m eta \u001b[36m0:00:00\u001b[0m00:01\u001b[0m00:01\u001b[0m\n",
      "\u001b[?25hDownloading mysql_connector_python-8.2.0-cp311-cp311-macosx_12_0_arm64.whl (14.5 MB)\n",
      "\u001b[2K   \u001b[90m━━━━━━━━━━━━━━━━━━━━━━━━━━━━━━━━━━━━━━━━\u001b[0m \u001b[32m14.5/14.5 MB\u001b[0m \u001b[31m17.8 MB/s\u001b[0m eta \u001b[36m0:00:00\u001b[0m00:01\u001b[0m00:01\u001b[0m\n",
      "\u001b[?25hInstalling collected packages: protobuf, mysql-connector-python\n",
      "Successfully installed mysql-connector-python-8.2.0 protobuf-4.21.12\n",
      "Note: you may need to restart the kernel to use updated packages.\n"
     ]
    }
   ],
   "source": [
    "#install mysql connector for python\n",
    "\n",
    "pip install mysql-connector-python"
   ]
  },
  {
   "cell_type": "code",
   "execution_count": 1,
   "id": "6663dac7",
   "metadata": {},
   "outputs": [],
   "source": [
    "#import libraries\n",
    "\n",
    "import mysql.connector\n",
    "import matplotlib.pyplot as plt\n",
    "import plotly.express as px\n",
    "import pandas as pd\n",
    "import seaborn as sns\n",
    "import datetime\n",
    "import numpy as np\n",
    "import random\n",
    "\n",
    "sns.set()"
   ]
  },
  {
   "cell_type": "markdown",
   "id": "b3179a12",
   "metadata": {},
   "source": [
    "# Establish Conncetion"
   ]
  },
  {
   "cell_type": "code",
   "execution_count": 2,
   "id": "2960d0ad",
   "metadata": {},
   "outputs": [],
   "source": [
    "#establish connection with mysql server\n",
    "\n",
    "mydb = mysql.connector.connect(\n",
    "  host=\"localhost\",\n",
    "  user=\"root\",\n",
    "  password=\"********\",\n",
    "  database=\"pharma\"\n",
    ")"
   ]
  },
  {
   "cell_type": "markdown",
   "id": "a1122b65",
   "metadata": {},
   "source": [
    "# Analytics"
   ]
  },
  {
   "cell_type": "markdown",
   "id": "bca780a7",
   "metadata": {},
   "source": [
    "## Find profit for custom date range"
   ]
  },
  {
   "cell_type": "code",
   "execution_count": 5,
   "id": "919e7342",
   "metadata": {},
   "outputs": [],
   "source": [
    "#function to find profits between a date range\n",
    "\n",
    "def find_profits():\n",
    "    print(\"Enter the dates between which you would like to see the profits\")\n",
    "    start = input(\"Starting date:\")\n",
    "    end = input(\"Ending data:\")\n",
    "    \n",
    "    query = \"SELECT get_profits(%s,%s)\" #query to pass into mysql\n",
    "    placeholder = (start,end) #start dates and end dates to pass into query\n",
    "    \n",
    "    #use cursor to run query\n",
    "    mycursor = mydb.cursor()\n",
    "    mycursor.execute(query,placeholder)\n",
    "    myresult = mycursor.fetchall()\n",
    "    mycursor.close()\n",
    "    \n",
    "    #print obtained result\n",
    "    for x in myresult:\n",
    "        print(\"${}k\".format(x[0]))"
   ]
  },
  {
   "cell_type": "code",
   "execution_count": 6,
   "id": "cab8e7c3",
   "metadata": {},
   "outputs": [
    {
     "name": "stdout",
     "output_type": "stream",
     "text": [
      "Enter the dates between which you would like to see the profits\n",
      "Starting date:2020-04-01\n",
      "Ending data:2020-05-15\n",
      "$8k\n"
     ]
    }
   ],
   "source": [
    "find_profits()"
   ]
  },
  {
   "cell_type": "markdown",
   "id": "8455e65e",
   "metadata": {},
   "source": [
    "## Monthly Profit over 2020"
   ]
  },
  {
   "cell_type": "code",
   "execution_count": 7,
   "id": "0ccfb0ea",
   "metadata": {},
   "outputs": [],
   "source": [
    "#function to get monthly profits over the year 2020\n",
    "\n",
    "def get_profit_by_month():\n",
    "    profits = []\n",
    "    months = list(range(1,13))\n",
    "    for i in range(len(months)): #generate start and end dates for each month\n",
    "        if months[i] > 9:\n",
    "            s = \"2020-{}-01\".format(months[i])\n",
    "            if months[i] == 12:\n",
    "                e = \"2021-01-01\"\n",
    "            else:\n",
    "                e = \"2020-{}-01\".format(months[i+1])\n",
    "        else:\n",
    "            s = \"2020-0{}-01\".format(months[i])\n",
    "            if months[i] == 9:\n",
    "                e = \"2020-10-01\"\n",
    "            else:\n",
    "                e = \"2020-0{}-01\".format(months[i+1])\n",
    "        \n",
    "        query = \"SELECT get_profits(%s,%s)\" #query to get profits between entered dates\n",
    "        dates = (s,e) #dates to pass into the query\n",
    "        \n",
    "        #cursor to run query\n",
    "        mycursor = mydb.cursor()\n",
    "        mycursor.execute(query,dates)\n",
    "        myresult = mycursor.fetchall()\n",
    "        mycursor.close()\n",
    "        \n",
    "        #append results into list\n",
    "        for x in myresult:\n",
    "            profits.append(x[0])\n",
    "\n",
    "    return profits"
   ]
  },
  {
   "cell_type": "code",
   "execution_count": 8,
   "id": "0c8aaab5",
   "metadata": {},
   "outputs": [],
   "source": [
    "# function to store profits into a dictionary\n",
    "\n",
    "def print_profits_by_month():\n",
    "    profits = get_profit_by_month()\n",
    "    profits_dict = {}\n",
    "    months = [\"Jan\",\"Feb\",\"Mar\",\"Apr\",\"May\",\"Jun\",\"Jul\",\"Aug\",\"Sep\",\"Oct\",\"Nov\",\"Dec\"]\n",
    "    for m,i in zip(months,profits):\n",
    "        profits_dict[m] = i\n",
    "        \n",
    "    return profits_dict"
   ]
  },
  {
   "cell_type": "code",
   "execution_count": 9,
   "id": "01db13f0",
   "metadata": {},
   "outputs": [
    {
     "name": "stdout",
     "output_type": "stream",
     "text": [
      "Jan: -1\n",
      "Feb: -13\n",
      "Mar: 7\n",
      "Apr: 8\n",
      "May: 12\n",
      "Jun: 19\n",
      "Jul: 5\n",
      "Aug: 5\n",
      "Sep: 7\n",
      "Oct: 11\n",
      "Nov: 0\n",
      "Dec: 0\n"
     ]
    }
   ],
   "source": [
    "profit_dict = print_profits_by_month()"
   ]
  },
  {
   "cell_type": "code",
   "execution_count": 10,
   "id": "ecb3b027",
   "metadata": {},
   "outputs": [
    {
     "data": {
      "image/png": "[encoded data removed]",
      "text/plain": [
       "<Figure size 800x800 with 1 Axes>"
      ]
     },
     "metadata": {},
     "output_type": "display_data"
    }
   ],
   "source": [
    "#generate bar plot for monthly profits over 2020\n",
    "\n",
    "plt.figure(figsize=(8, 8))\n",
    "\n",
    "plots = sns.barplot(x=list(profit_dict.keys()), y=list(profit_dict.values()))\n",
    "\n",
    "for bar in plots.patches:\n",
    "    plots.annotate(format(bar.get_height(), '.2f'), \n",
    "                    (bar.get_x() + bar.get_width() / 2, \n",
    "                    bar.get_height()), ha='center', va='center',\n",
    "                size=15, xytext=(0, 8),\n",
    "                textcoords='offset points')\n",
    "\n",
    "plt.xlabel(\"Months\", size=14)\n",
    "plt.ylabel(\"Profit\", size=14)\n",
    "plt.title(\"Monthly Profits in 2020\")\n",
    "\n",
    "plt.show()"
   ]
  },
  {
   "cell_type": "markdown",
   "id": "baa40863",
   "metadata": {},
   "source": [
    "## Contribution of each drug to total sales"
   ]
  },
  {
   "cell_type": "code",
   "execution_count": 72,
   "id": "c69fd5ef",
   "metadata": {},
   "outputs": [
    {
     "data": {
      "image/png": "[encoded data removed]",
      "text/plain": [
       "<Figure size 640x480 with 1 Axes>"
      ]
     },
     "metadata": {},
     "output_type": "display_data"
    }
   ],
   "source": [
    "drugNameList = []\n",
    "salesValue = []\n",
    "\n",
    "#cursor to run query to obtain total individual sales of all drugs\n",
    "mycursor = mydb.cursor()\n",
    "mycursor.execute(\"SELECT d.Name,SUM(Total_Price) FROM Drugs_in_Orders as dio JOIN Drugs as d ON d.ID = dio.Drugs_ID GROUP BY Drugs_ID;\")\n",
    "myresult = mycursor.fetchall()\n",
    "mycursor.close()\n",
    "\n",
    "#store results\n",
    "for result in myresult:\n",
    "    drugNameList.append(result[0])\n",
    "    salesValue.append(result[1])\n",
    "\n",
    "#function to plot results in a piechart\n",
    "plt.pie(salesValue, labels = drugNameList,autopct='%1.0f%%', pctdistance=1.1, labeldistance=1.2)\n",
    "plt.show()"
   ]
  },
  {
   "cell_type": "markdown",
   "id": "fb7b62e0",
   "metadata": {},
   "source": [
    "## Difference between listed delivery time and actual delivery time"
   ]
  },
  {
   "cell_type": "code",
   "execution_count": 63,
   "id": "802acf6c",
   "metadata": {},
   "outputs": [],
   "source": [
    "#query to find eta of order and average delivery time of corresponding vendor\n",
    "query = \"\"\"SELECT v.Vendor_ID, v.Average_Shipping_Time_in_days, s.ETA_in_days\n",
    "FROM Orders as o\n",
    "JOIN Vendor as v\n",
    "ON o.Recipient_ID = v.Vendor_ID\n",
    "JOIN Ships as s\n",
    "ON o.ID = s.Order_ID\n",
    "WHERE Recipient_ID LIKE \\\"V%\\\";\"\"\"\n",
    "\n",
    "#cursor to run query\n",
    "mycursor = mydb.cursor()\n",
    "mycursor.execute(query)\n",
    "myresult = mycursor.fetchall()\n",
    "mycursor.close()\n",
    "\n",
    "vendor = []\n",
    "averageTime = []\n",
    "eta = []\n",
    "\n",
    "#store results\n",
    "for result in myresult:\n",
    "    vendor.append(result[0])\n",
    "    averageTime.append(int(result[1]))\n",
    "    eta.append(int(result[2]))\n",
    "    \n",
    "data = {\"Vendor\":vendor, \"Average Delivery Time (in days)\": averageTime, \"Actual ETA (in days)\": eta}\n",
    "deliverydifference = pd.DataFrame(data)"
   ]
  },
  {
   "cell_type": "code",
   "execution_count": 71,
   "id": "512aca58",
   "metadata": {},
   "outputs": [
    {
     "data": {
      "image/png": "[encoded data removed]",
      "text/plain": [
       "<Figure size 640x480 with 1 Axes>"
      ]
     },
     "metadata": {},
     "output_type": "display_data"
    }
   ],
   "source": [
    "#graph to plot actual eta and average delivery time of each vendor per order\n",
    "x = np.arange(len(vendor))\n",
    "plt.bar(x-0.2, averageTime, 0.4) \n",
    "plt.bar(x+0.2, eta, 0.4) \n",
    "plt.xticks(x,vendor)\n",
    "plt.xlabel(\"Vendors\")\n",
    "plt.ylabel(\"Days\")\n",
    "plt.legend([\"Average Delivery Time\",\"Actual ETA\"])\n",
    "plt.show()"
   ]
  },
  {
   "cell_type": "markdown",
   "id": "106fb6a5",
   "metadata": {},
   "source": [
    "# Utility Functions"
   ]
  },
  {
   "cell_type": "markdown",
   "id": "09c20ca4",
   "metadata": {},
   "source": [
    "## Place order"
   ]
  },
  {
   "cell_type": "code",
   "execution_count": 6,
   "id": "5fb742d6",
   "metadata": {},
   "outputs": [],
   "source": [
    "#function to place order\n",
    "\n",
    "def askwhatOrder():\n",
    "    chemList = []\n",
    "    isAvailable = 1\n",
    "    keepAsking = True\n",
    "    drugPrice ={}\n",
    "    drugNameID = {}\n",
    "    drug = ''\n",
    "    quantity = ''\n",
    "    totalVal = 0\n",
    "    eachTotal = 0\n",
    "    drugsList = []\n",
    "    eachDrugPrice = {}\n",
    "    \n",
    "    #query to find latest order number\n",
    "    digitquery = \"\"\"SELECT ID\n",
    "    FROM Orders\n",
    "    ORDER BY ID desc\n",
    "    LIMIT 1\"\"\"\n",
    "    mydb = mysql.connector.connect(\n",
    "                      host=\"localhost\",\n",
    "                      user=\"root\",\n",
    "                      password=\"********\",\n",
    "                      database=\"pharma\"\n",
    "                    )\n",
    "    mycursor = mydb.cursor()\n",
    "    mycursor.execute(digitquery)\n",
    "    myresult = mycursor.fetchall()\n",
    "    mycursor.close()\n",
    "    \n",
    "    #obtain new order number\n",
    "    for x in myresult:\n",
    "        digitStr = int(x[0][3:]) + 1\n",
    "\n",
    "    #take input to place order from a distributor or vendor\n",
    "    path = input(\"What orders do you want to place today? Type B for Distributor. Type V for Vendor order placement\")\n",
    "    print(\"\\n\")\n",
    "    \n",
    "    #place order from a distributor\n",
    "    if (path == 'B'):\n",
    "        \n",
    "        userId = input('Enter the distributor ID: ')\n",
    "       \n",
    "        #fetch drug option to choose from\n",
    "        mycursor = mydb.cursor()\n",
    "        mycursor.execute(\"SELECT * FROM Drugs\")\n",
    "        myresult = mycursor.fetchall()\n",
    "        mycursor.close() \n",
    "        \n",
    "        while (keepAsking):\n",
    "            print(\"\\nPlease select the drug you want: \")\n",
    "            for x in myresult:\n",
    "                drugPrice[x[1]] = x[6]\n",
    "                drugNameID[x[1]] = x[0]\n",
    "                print(x[1])\n",
    "            drug = input(\"\\nEnter the drug you want to order: \")\n",
    "            quantity = input(\"\\nEnter the quantity you want: \")\n",
    "            \n",
    "            #check availability of drug\n",
    "            mycursor = mydb.cursor()\n",
    "            mycursor.callproc(\"get_drug_stock\",(drug,quantity))\n",
    "\n",
    "            for result in mycursor.stored_results():\n",
    "                res = result.fetchall()\n",
    "                stock = int(res[0][0])\n",
    "\n",
    "            mycursor.close() \n",
    "            \n",
    "            #if drug is in stock then calculate total price order and append the drug to the current order\n",
    "            if(stock >= int(quantity)):\n",
    "                eachTotal = drugPrice[drug] * int(quantity)\n",
    "                totalVal = totalVal + eachTotal\n",
    "                drugsList.append(drug)\n",
    "                eachDrugPrice[drug] = (eachTotal,quantity)\n",
    "\n",
    "                decision = input(\"\\nDo you want to buy more drugs? type Yes to continue and No to stop\").lower()\n",
    "                keepAsking = True if decision == 'yes' else False\n",
    "            else:\n",
    "                print(\"The drug you want to order is not available or is less in quantity\")\n",
    "        \n",
    "        random_month = random.randint(1,12)\n",
    "        random_date = random.randint(1,28)\n",
    "           \n",
    "        #call procedure to insert new order in Orders table\n",
    "        mycursor = mydb.cursor()\n",
    "        mycursor.callproc(\"create_order\",((\"OD0\"+str(digitStr)),datetime.date(2020, random_month, random_date), float(totalVal), userId,))\n",
    "        mydb.commit()\n",
    "        \n",
    "        #for each drug in order insert new record in drugs_in_order table\n",
    "        for drg in drugsList:\n",
    "        \n",
    "            mycursor.callproc(\"push_drugs_in_order\",((\"OD0\"+str(digitStr)),drugNameID[drg], eachDrugPrice[drg][1], float(eachDrugPrice[drg][0]),))\n",
    "            mydb.commit()\n",
    "            \n",
    "    #place vendor order\n",
    "    elif (path == 'V'):\n",
    "        while(keepAsking):\n",
    "            mycursor = mydb.cursor()\n",
    "            mycursor.execute(\"SELECT * FROM Chemicals\")\n",
    "            myresult = mycursor.fetchall()\n",
    "            mycursor.close()\n",
    "\n",
    "            #get the chemical id to order\n",
    "            chemIDName = {}\n",
    "\n",
    "            print(\"\\nPlease select the chemical you want: \")\n",
    "            for x in myresult:\n",
    "                chemIDName[x[0]] = x[1]\n",
    "                print(x[0],\":\",x[1])\n",
    "                \n",
    "            chem = input(\"\\nEnter the ID of the chemical you want to order: \")\n",
    "\n",
    "            VendorIDPrice = {}\n",
    "\n",
    "            #query to find which vendors provide the desired chemical\n",
    "            query = \"\"\"SELECT vi.Vendor_ID, v.Name, vi.Price_per_packet \n",
    "            FROM Vendor_Inventory AS vi\n",
    "            JOIN Vendor as v\n",
    "            ON vi.Vendor_ID = v.Vendor_ID\n",
    "            WHERE vi.Chemical_ID = \\\"{}\\\"\"\"\".format(chem)\n",
    "\n",
    "            mycursor = mydb.cursor()\n",
    "            mycursor.execute(query)\n",
    "            myresult = mycursor.fetchall()\n",
    "            mycursor.close()\n",
    "\n",
    "            print(\"\\nThe following vendors offer {}\".format(chemIDName[chem]))\n",
    "            for x in myresult:\n",
    "                print(x[0],x[1],\"${} per packet\".format(x[2]))\n",
    "                VendorIDPrice[x[0]] = x[2]\n",
    "\n",
    "            vendorID = input(\"\\nEnter the ID of the vendor you want to place the order from: \")\n",
    "            quantity = input(\"\\nEnter the quantity (in 1k packets): \")\n",
    "\n",
    "            totalVal = VendorIDPrice[vendorID] * int(quantity)\n",
    "\n",
    "            args = (chem,float(quantity),float(totalVal))\n",
    "            chemList.append(args)\n",
    "\n",
    "            cont = input(\"\\nBuy more chemicals?(Yes/No):\")\n",
    "            if cont == \"Yes\":\n",
    "                keepAsking = True\n",
    "            else:\n",
    "                keepAsking = False\n",
    "\n",
    "        #compute total chemical value\n",
    "        totalOrderVal = 0\n",
    "        for c in chemList:\n",
    "            totalOrderVal += c[2]\n",
    "            \n",
    "        random_month = random.randint(1,12)\n",
    "        random_date = random.randint(1,28)\n",
    "    \n",
    "        #insert new record in Orders table\n",
    "        mycursor = mydb.cursor()\n",
    "        mycursor.callproc(\"create_order\",((\"OD0\"+str(digitStr)),datetime.date(2020, random_month, random_date), float(totalOrderVal), vendorID,))\n",
    "        mydb.commit()\n",
    "\n",
    "        #insert new record in chemicals_in_order table\n",
    "        for c in chemList:\n",
    "            mycursor.callproc(\"push_chemicals_in_order\",((\"OD0\"+str(digitStr)),c[0],c[1],c[2]))\n",
    "            mydb.commit()"
   ]
  },
  {
   "cell_type": "code",
   "execution_count": 7,
   "id": "24789116",
   "metadata": {},
   "outputs": [
    {
     "name": "stdout",
     "output_type": "stream",
     "text": [
      "What orders do you want to place today? Type B for Distributor. Type V for Vendor order placementB\n",
      "\n",
      "\n",
      "Enter the distributor ID: B001\n",
      "\n",
      "Please select the drug you want: \n",
      "omeprazole\n",
      "Aspirin\n",
      "cimetidine\n",
      "Acetaminophen\n",
      "lansoprazole\n",
      "Fluticasone\n",
      "bisacodyl\n",
      "Pseudoephedrine\n",
      "Pepto Bismol\n",
      "Loratadine\n",
      "Dramamine\n",
      "Prednisone\n",
      "triamcinolone\n",
      "\n",
      "Enter the drug you want to order: triamcinolone\n",
      "\n",
      "Enter the quantity you want: 1\n",
      "\n",
      "Do you want to buy more drugs? type Yes to continue and No to stopNo\n"
     ]
    }
   ],
   "source": [
    "askwhatOrder()"
   ]
  },
  {
   "cell_type": "markdown",
   "id": "f6fcbfd8",
   "metadata": {},
   "source": [
    "# Get best vendor"
   ]
  },
  {
   "cell_type": "code",
   "execution_count": 25,
   "id": "1ebcc106",
   "metadata": {},
   "outputs": [],
   "source": [
    "#function to find cheapest or fastest vendor\n",
    "\n",
    "def getBestOption():\n",
    "    mycursor = mydb.cursor()\n",
    "    mycursor.execute(\"SELECT * FROM Chemicals\")\n",
    "    myresult = mycursor.fetchall()\n",
    "    mycursor.close()\n",
    "\n",
    "    #insert chemical ID\n",
    "    chemIDName = {}\n",
    "    print(\"Please select the chemical you want: \")\n",
    "    for x in myresult:\n",
    "        chemIDName[x[0]] = x[1]\n",
    "        print(x[0],\":\",x[1])\n",
    "    print(\"\\n\")\n",
    "    chem = input(\"Enter the chemical you want to place an order for: \")\n",
    "    print(chem)\n",
    "    x = 2\n",
    "    sortBy = input(\"Enter C for the cheapest option or F for the fastest delivery: \").lower()\n",
    "    \n",
    "    sqlQuery = \"select get_cheapest_vendor(%s)\"\n",
    "    mycursor = mydb.cursor()\n",
    "    \n",
    "    #query to find cheapest vendor\n",
    "    if(sortBy == 'c'):\n",
    "        sqlQuery     = \"select get_cheapest_vendor(%s)\"\n",
    "        mycursor.execute(sqlQuery,(chem,))\n",
    "        myResults = mycursor.fetchall()\n",
    "        for result in myResults:\n",
    "            print(result[0]+ \" is the cheapest vendor for this chemical.\")\n",
    "    \n",
    "    #query to find fastest vendor\n",
    "    elif(sortBy == 'f'):\n",
    "        sqlQuery     = \"select get_fastest_vendor(%s)\"\n",
    "        mycursor.execute(sqlQuery,(chem,))\n",
    "        myResults = mycursor.fetchall()\n",
    "        for result in myResults:\n",
    "            print(result[0]+ \" is the fastest vendor for this chemical.\")\n"
   ]
  },
  {
   "cell_type": "code",
   "execution_count": 27,
   "id": "8edeacc8",
   "metadata": {},
   "outputs": [
    {
     "name": "stdout",
     "output_type": "stream",
     "text": [
      "Please select the chemical you want: \n",
      "C001 : acetylsalicylic acid\n",
      "C002 : hypromellose\n",
      "C003 : mannitol\n",
      "C004 : N-(4-hydroxyphenyl)acetamide\n",
      "C005 : povidone\n",
      "C006 : benzimidazole\n",
      "C007 : titanium dioxide\n",
      "C008 : magnesium carbonate\n",
      "C009 : polyethylene glycol\n",
      "C010 : hydroxypropyl cellulose\n",
      "C011 : fluticasone propylate\n",
      "C012 : magnesium stearate\n",
      "C013 : Pseudoephedrine hydrochloride\n",
      "C014 : Loratadine\n",
      "C015 : bismuth subsalicylate\n",
      "C016 : silicon dioxide\n",
      "C017 : prednisolone\n",
      "C018 : dimenhydrinate\n",
      "C019 : lactose\n",
      "C020 : Glycerin\n",
      "C021 : Isopropyl Palmitate\n",
      "\n",
      "\n",
      "Enter the chemical you want to place an order for: Glycerin\n",
      "Glycerin\n",
      "Enter C for the cheapest option or F for the fastest delivery: F\n",
      "V001 is the fastest vendor for this chemical.\n"
     ]
    }
   ],
   "source": [
    "getBestOption()"
   ]
  },
  {
   "cell_type": "markdown",
   "id": "4e36d69d",
   "metadata": {},
   "source": [
    "# View Approvals"
   ]
  },
  {
   "cell_type": "code",
   "execution_count": 28,
   "id": "6d3a7512",
   "metadata": {},
   "outputs": [],
   "source": [
    "#find drug approvals from view - approvals_for_board\n",
    "\n",
    "mycursor = mydb.cursor()\n",
    "mycursor.execute(\"SELECT * FROM approvals_for_board;\")\n",
    "myresult = mycursor.fetchall()\n",
    "drugNameList = []\n",
    "approvedList = []\n",
    "\n",
    "for result in myresult:\n",
    "    drugNameList.append(result[1])\n",
    "    approvedList.append(result[2])\n",
    "    \n",
    "data = {'Name' : drugNameList, 'Lab Approved' : approvedList}\n",
    "drugLabResults = pd.DataFrame(data)"
   ]
  },
  {
   "cell_type": "code",
   "execution_count": 29,
   "id": "fc90ac4b",
   "metadata": {},
   "outputs": [
    {
     "data": {
      "text/html": [
       "<div>\n",
       "<style scoped>\n",
       "    .dataframe tbody tr th:only-of-type {\n",
       "        vertical-align: middle;\n",
       "    }\n",
       "\n",
       "    .dataframe tbody tr th {\n",
       "        vertical-align: top;\n",
       "    }\n",
       "\n",
       "    .dataframe thead th {\n",
       "        text-align: right;\n",
       "    }\n",
       "</style>\n",
       "<table border=\"1\" class=\"dataframe\">\n",
       "  <thead>\n",
       "    <tr style=\"text-align: right;\">\n",
       "      <th></th>\n",
       "      <th>Name</th>\n",
       "      <th>Lab Approved</th>\n",
       "    </tr>\n",
       "  </thead>\n",
       "  <tbody>\n",
       "    <tr>\n",
       "      <th>0</th>\n",
       "      <td>omeprazole</td>\n",
       "      <td>Yes</td>\n",
       "    </tr>\n",
       "    <tr>\n",
       "      <th>1</th>\n",
       "      <td>cimetidine</td>\n",
       "      <td>Pending</td>\n",
       "    </tr>\n",
       "    <tr>\n",
       "      <th>2</th>\n",
       "      <td>lansoprazole</td>\n",
       "      <td>Yes</td>\n",
       "    </tr>\n",
       "    <tr>\n",
       "      <th>3</th>\n",
       "      <td>Fluticasone</td>\n",
       "      <td>Yes</td>\n",
       "    </tr>\n",
       "    <tr>\n",
       "      <th>4</th>\n",
       "      <td>bisacodyl</td>\n",
       "      <td>Yes</td>\n",
       "    </tr>\n",
       "    <tr>\n",
       "      <th>5</th>\n",
       "      <td>Pepto Bismol</td>\n",
       "      <td>Yes</td>\n",
       "    </tr>\n",
       "    <tr>\n",
       "      <th>6</th>\n",
       "      <td>Dramamine</td>\n",
       "      <td>Yes</td>\n",
       "    </tr>\n",
       "    <tr>\n",
       "      <th>7</th>\n",
       "      <td>triamcinolone</td>\n",
       "      <td>Pending</td>\n",
       "    </tr>\n",
       "  </tbody>\n",
       "</table>\n",
       "</div>"
      ],
      "text/plain": [
       "            Name Lab Approved\n",
       "0     omeprazole          Yes\n",
       "1     cimetidine      Pending\n",
       "2   lansoprazole          Yes\n",
       "3    Fluticasone          Yes\n",
       "4      bisacodyl          Yes\n",
       "5   Pepto Bismol          Yes\n",
       "6      Dramamine          Yes\n",
       "7  triamcinolone      Pending"
      ]
     },
     "execution_count": 29,
     "metadata": {},
     "output_type": "execute_result"
    }
   ],
   "source": [
    "drugLabResults"
   ]
  },
  {
   "cell_type": "markdown",
   "id": "bee9380a",
   "metadata": {},
   "source": [
    "# View top drug sales"
   ]
  },
  {
   "cell_type": "code",
   "execution_count": 34,
   "id": "17aaec4d",
   "metadata": {},
   "outputs": [],
   "source": [
    "#view drugs with highest sales value\n",
    "\n",
    "mycursor = mydb.cursor()\n",
    "mycursor.execute(\"SELECT * FROM top_drug_sales;\")\n",
    "myresult = mycursor.fetchall()\n",
    "drugNameList = []\n",
    "PriceList = []\n",
    "\n",
    "for result in myresult:\n",
    "    drugNameList.append(result[0])\n",
    "    PriceList.append(result[1])\n",
    "    \n",
    "data = {'Name' : drugNameList, 'Order_Price' : PriceList}\n",
    "topdrugOrders = pd.DataFrame(data)"
   ]
  },
  {
   "cell_type": "code",
   "execution_count": 35,
   "id": "424155c6",
   "metadata": {},
   "outputs": [
    {
     "data": {
      "text/html": [
       "<div>\n",
       "<style scoped>\n",
       "    .dataframe tbody tr th:only-of-type {\n",
       "        vertical-align: middle;\n",
       "    }\n",
       "\n",
       "    .dataframe tbody tr th {\n",
       "        vertical-align: top;\n",
       "    }\n",
       "\n",
       "    .dataframe thead th {\n",
       "        text-align: right;\n",
       "    }\n",
       "</style>\n",
       "<table border=\"1\" class=\"dataframe\">\n",
       "  <thead>\n",
       "    <tr style=\"text-align: right;\">\n",
       "      <th></th>\n",
       "      <th>Name</th>\n",
       "      <th>Order_Price</th>\n",
       "    </tr>\n",
       "  </thead>\n",
       "  <tbody>\n",
       "    <tr>\n",
       "      <th>0</th>\n",
       "      <td>Dramamine</td>\n",
       "      <td>180000</td>\n",
       "    </tr>\n",
       "    <tr>\n",
       "      <th>1</th>\n",
       "      <td>cimetidine</td>\n",
       "      <td>150000</td>\n",
       "    </tr>\n",
       "    <tr>\n",
       "      <th>2</th>\n",
       "      <td>Prednisone</td>\n",
       "      <td>90000</td>\n",
       "    </tr>\n",
       "    <tr>\n",
       "      <th>3</th>\n",
       "      <td>triamcinolone</td>\n",
       "      <td>84000</td>\n",
       "    </tr>\n",
       "    <tr>\n",
       "      <th>4</th>\n",
       "      <td>Prednisone</td>\n",
       "      <td>81000</td>\n",
       "    </tr>\n",
       "  </tbody>\n",
       "</table>\n",
       "</div>"
      ],
      "text/plain": [
       "            Name Order_Price\n",
       "0      Dramamine      180000\n",
       "1     cimetidine      150000\n",
       "2     Prednisone       90000\n",
       "3  triamcinolone       84000\n",
       "4     Prednisone       81000"
      ]
     },
     "execution_count": 35,
     "metadata": {},
     "output_type": "execute_result"
    }
   ],
   "source": [
    "topdrugOrders"
   ]
  },
  {
   "cell_type": "markdown",
   "id": "5bedde40",
   "metadata": {},
   "source": [
    "# View ingredients of a drug"
   ]
  },
  {
   "cell_type": "code",
   "execution_count": 43,
   "id": "0504ed9b",
   "metadata": {},
   "outputs": [
    {
     "name": "stdout",
     "output_type": "stream",
     "text": [
      "Enter the drug name:Aspirin\n"
     ]
    }
   ],
   "source": [
    "#view ingredients required in a particular drug\n",
    "\n",
    "drugName = input(\"Enter the drug name:\")\n",
    "\n",
    "#cursor to call procedure\n",
    "mycursor = mydb.cursor()\n",
    "callproc = \"CALL get_chemicals_in_drug(\\\"{}\\\")\".format(drugName)\n",
    "mycursor.execute(callproc)\n",
    "myresult = mycursor.fetchall()\n",
    "mycursor.close()\n",
    "\n",
    "chemId = []\n",
    "chemName = []\n",
    "chemStock = []\n",
    "chemRatio = []\n",
    "\n",
    "for result in myresult:\n",
    "    chemId.append(result[0])\n",
    "    chemName.append(result[1])\n",
    "    chemStock.append(result[2])\n",
    "    chemRatio.append(result[3])\n",
    "    \n",
    "data = {\"Chemical ID\":chemId, \"Name\":chemName, \"Current Stock(in 1k packets)\":chemStock, \"Mix in Parts\":chemRatio}\n",
    "drugIngredients = pd.DataFrame(data)"
   ]
  },
  {
   "cell_type": "code",
   "execution_count": 44,
   "id": "4d474a8d",
   "metadata": {},
   "outputs": [
    {
     "data": {
      "text/html": [
       "<div>\n",
       "<style scoped>\n",
       "    .dataframe tbody tr th:only-of-type {\n",
       "        vertical-align: middle;\n",
       "    }\n",
       "\n",
       "    .dataframe tbody tr th {\n",
       "        vertical-align: top;\n",
       "    }\n",
       "\n",
       "    .dataframe thead th {\n",
       "        text-align: right;\n",
       "    }\n",
       "</style>\n",
       "<table border=\"1\" class=\"dataframe\">\n",
       "  <thead>\n",
       "    <tr style=\"text-align: right;\">\n",
       "      <th></th>\n",
       "      <th>Chemical ID</th>\n",
       "      <th>Name</th>\n",
       "      <th>Current Stock(in 1k packets)</th>\n",
       "      <th>Mix in Parts</th>\n",
       "    </tr>\n",
       "  </thead>\n",
       "  <tbody>\n",
       "    <tr>\n",
       "      <th>0</th>\n",
       "      <td>C003</td>\n",
       "      <td>mannitol</td>\n",
       "      <td>5</td>\n",
       "      <td>2</td>\n",
       "    </tr>\n",
       "    <tr>\n",
       "      <th>1</th>\n",
       "      <td>C011</td>\n",
       "      <td>fluticasone propylate</td>\n",
       "      <td>25</td>\n",
       "      <td>2</td>\n",
       "    </tr>\n",
       "  </tbody>\n",
       "</table>\n",
       "</div>"
      ],
      "text/plain": [
       "  Chemical ID                   Name Current Stock(in 1k packets) Mix in Parts\n",
       "0        C003               mannitol                            5            2\n",
       "1        C011  fluticasone propylate                           25            2"
      ]
     },
     "execution_count": 44,
     "metadata": {},
     "output_type": "execute_result"
    }
   ],
   "source": [
    "drugIngredients"
   ]
  }
 ],
 "metadata": {
  "kernelspec": {
   "display_name": "Python 3 (ipykernel)",
   "language": "python",
   "name": "python3"
  },
  "language_info": {
   "codemirror_mode": {
    "name": "ipython",
    "version": 3
   },
   "file_extension": ".py",
   "mimetype": "text/x-python",
   "name": "python",
   "nbconvert_exporter": "python",
   "pygments_lexer": "ipython3",
   "version": "3.10.9"
  }
 },
 "nbformat": 4,
 "nbformat_minor": 5
}
