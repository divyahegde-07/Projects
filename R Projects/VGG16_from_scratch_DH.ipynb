{
  "cells": [
    {
      "cell_type": "code",
      "execution_count": 1,
      "metadata": {
        "id": "w2NHfbHQ8rDk"
      },
      "outputs": [],
      "source": [
        "import numpy as np\n",
        "import pickle\n",
        "import matplotlib.pyplot as plt\n",
        "import seaborn as sns\n",
        "import tensorflow as tf\n",
        "from tensorflow import keras\n",
        "from keras import Model\n",
        "from keras.datasets import cifar100\n",
        "from sklearn.metrics import accuracy_score\n",
        "from keras.layers import Input, Dense, Conv2D, Flatten, Dropout, MaxPool2D, BatchNormalization\n",
        "from keras.regularizers import l2\n",
        "from keras.applications import VGG16"
      ]
    },
    {
      "cell_type": "code",
      "execution_count": 2,
      "metadata": {
        "id": "v2kiI8qJ8rDl"
      },
      "outputs": [],
      "source": [
        "num_classes = 100"
      ]
    },
    {
      "cell_type": "code",
      "execution_count": 3,
      "metadata": {
        "id": "mLDp2pNB8rDl",
        "outputId": "7053fe63-5e94-43a3-8e5e-007a82c68853",
        "colab": {
          "base_uri": "https://localhost:8080/"
        }
      },
      "outputs": [
        {
          "output_type": "stream",
          "name": "stdout",
          "text": [
            "Downloading data from https://www.cs.toronto.edu/~kriz/cifar-100-python.tar.gz\n",
            "169001437/169001437 [==============================] - 4s 0us/step\n"
          ]
        }
      ],
      "source": [
        "(x_train, y_train), (x_test, y_test) = cifar100.load_data()"
      ]
    },
    {
      "cell_type": "code",
      "execution_count": 4,
      "metadata": {
        "id": "I8XUXKSQ8rDl",
        "outputId": "d9d891e6-2912-429b-895e-33a86fdf80c4",
        "colab": {
          "base_uri": "https://localhost:8080/"
        }
      },
      "outputs": [
        {
          "output_type": "stream",
          "name": "stdout",
          "text": [
            "x_train shape: (50000, 32, 32, 3)\n",
            "50000 train samples\n",
            "10000 test samples\n"
          ]
        }
      ],
      "source": [
        "print('x_train shape:', x_train.shape)\n",
        "print(x_train.shape[0], 'train samples')\n",
        "print(x_test.shape[0], 'test samples')"
      ]
    },
    {
      "cell_type": "code",
      "execution_count": 5,
      "metadata": {
        "id": "dtfQ_BDd8rDm"
      },
      "outputs": [],
      "source": [
        "y_train = keras.utils.to_categorical(y_train, num_classes)\n",
        "y_test = keras.utils.to_categorical(y_test, num_classes)"
      ]
    },
    {
      "cell_type": "code",
      "execution_count": 6,
      "metadata": {
        "id": "Ery4PS0Q8rDn"
      },
      "outputs": [],
      "source": [
        "def get_accuracy_score(predictions, y_test):\n",
        "    pred_labels = []\n",
        "    y_labels = []\n",
        "\n",
        "    for p in predictions:\n",
        "        pred_labels.append(np.argmax(p))\n",
        "\n",
        "    for y in y_test:\n",
        "        y_labels.append(np.argmax(y))\n",
        "\n",
        "    return(accuracy_score(y_labels, pred_labels))"
      ]
    },
    {
      "cell_type": "markdown",
      "metadata": {
        "id": "ReycFKTp8rDn"
      },
      "source": [
        "Building baseline model"
      ]
    },
    {
      "cell_type": "code",
      "execution_count": 7,
      "metadata": {
        "id": "3slh3dq_8rDn"
      },
      "outputs": [],
      "source": [
        "inp_shape = (32,32,3)\n",
        "decay = 0.0005"
      ]
    },
    {
      "cell_type": "code",
      "execution_count": 8,
      "metadata": {
        "id": "7gH73gJt8rDn"
      },
      "outputs": [],
      "source": [
        "input_ = Input(shape = inp_shape)"
      ]
    },
    {
      "cell_type": "code",
      "execution_count": 9,
      "metadata": {
        "id": "6TGQz5Bq8rDn"
      },
      "outputs": [],
      "source": [
        "conv1 = Conv2D(filters=64, kernel_size=(3,3), padding='same', activation='relu', kernel_regularizer=l2(decay))(input_)\n",
        "conv1 = BatchNormalization()(conv1)\n",
        "conv1 = Dropout(0.3)(conv1)\n",
        "\n",
        "conv1 = Conv2D(filters=64, kernel_size=(3,3), padding='same', activation='relu', kernel_regularizer=l2(decay))(conv1)\n",
        "conv1 = BatchNormalization()(conv1)\n",
        "\n",
        "maxpool1 = MaxPool2D(pool_size=(2,2))(conv1)\n",
        "\n",
        "conv2 = Conv2D(filters=128, kernel_size=(3,3), padding='same', activation='relu', kernel_regularizer=l2(decay))(maxpool1)\n",
        "conv2 = BatchNormalization()(conv2)\n",
        "conv2 = Dropout(0.4)(conv2)\n",
        "\n",
        "conv2 = Conv2D(filters=128, kernel_size=(3,3), padding='same', activation='relu', kernel_regularizer=l2(decay))(conv2)\n",
        "conv2 = BatchNormalization()(conv2)\n",
        "\n",
        "maxpool2 = MaxPool2D(pool_size=(2,2))(conv2)\n",
        "\n",
        "conv3 = Conv2D(filters=256, kernel_size=(3,3), padding='same', activation='relu', kernel_regularizer=l2(decay))(maxpool2)\n",
        "conv3 = BatchNormalization()(conv3)\n",
        "conv3 = Dropout(0.4)(conv3)\n",
        "\n",
        "conv3 = Conv2D(filters=256, kernel_size=(3,3), padding='same', activation='relu', kernel_regularizer=l2(decay))(conv3)\n",
        "conv3 = BatchNormalization()(conv3)\n",
        "conv3 = Dropout(0.4)(conv3)\n",
        "\n",
        "conv3 = Conv2D(filters=256, kernel_size=(3,3), padding='same', activation='relu', kernel_regularizer=l2(decay))(conv3)\n",
        "conv3 = BatchNormalization()(conv3)\n",
        "\n",
        "maxpool3 = MaxPool2D(pool_size=(2,2))(conv3)\n",
        "\n",
        "conv4 = Conv2D(filters=512, kernel_size=(3,3), padding='same', activation='relu', kernel_regularizer=l2(decay))(maxpool3)\n",
        "conv4 = BatchNormalization()(conv4)\n",
        "conv4 = Dropout(0.4)(conv4)\n",
        "\n",
        "conv4 = Conv2D(filters=512, kernel_size=(3,3), padding='same', activation='relu', kernel_regularizer=l2(decay))(conv4)\n",
        "conv4 = BatchNormalization()(conv4)\n",
        "conv4 = Dropout(0.4)(conv4)\n",
        "\n",
        "conv4 = Conv2D(filters=512, kernel_size=(3,3), padding='same', activation='relu', kernel_regularizer=l2(decay))(conv4)\n",
        "conv4 = BatchNormalization()(conv4)\n",
        "\n",
        "maxpool4 = MaxPool2D(pool_size=(2,2))(conv4)\n",
        "\n",
        "conv5 = Conv2D(filters=512, kernel_size=(3,3), padding='same', activation='relu', kernel_regularizer=l2(decay))(maxpool4)\n",
        "conv5 = BatchNormalization()(conv5)\n",
        "conv5 = Dropout(0.4)(conv5)\n",
        "\n",
        "conv5 = Conv2D(filters=512, kernel_size=(3,3), padding='same', activation='relu', kernel_regularizer=l2(decay))(conv5)\n",
        "conv5 = BatchNormalization()(conv5)\n",
        "conv5 = Dropout(0.4)(conv5)\n",
        "\n",
        "conv5 = Conv2D(filters=512, kernel_size=(3,3), padding='same', activation='relu', kernel_regularizer=l2(decay))(conv5)\n",
        "conv5 = BatchNormalization()(conv5)\n",
        "\n",
        "maxpool5 = MaxPool2D(pool_size=(2,2))(conv5)\n",
        "maxpool5 = Dropout(0.5)(maxpool5)\n",
        "\n",
        "\n",
        "l = Flatten()(maxpool5)\n",
        "\n",
        "l = Dense(units = 512, activation='relu', kernel_regularizer=l2(decay))(l)\n",
        "l = BatchNormalization()(l)\n",
        "l = Dropout(0.5)(l)\n",
        "\n",
        "output_ = Dense(units = num_classes, activation='softmax')(l)"
      ]
    },
    {
      "cell_type": "code",
      "execution_count": 10,
      "metadata": {
        "id": "F8wKwmrc8rDo"
      },
      "outputs": [],
      "source": [
        "model = Model(inputs = input_, outputs = output_)"
      ]
    },
    {
      "cell_type": "code",
      "execution_count": 11,
      "metadata": {
        "id": "bxJADiLu8rDo",
        "outputId": "1dbe35e1-24ee-4f47-b754-4567a7f3bca2",
        "colab": {
          "base_uri": "https://localhost:8080/"
        }
      },
      "outputs": [
        {
          "output_type": "stream",
          "name": "stdout",
          "text": [
            "Model: \"model\"\n",
            "_________________________________________________________________\n",
            " Layer (type)                Output Shape              Param #   \n",
            "=================================================================\n",
            " input_1 (InputLayer)        [(None, 32, 32, 3)]       0         \n",
            "                                                                 \n",
            " conv2d (Conv2D)             (None, 32, 32, 64)        1792      \n",
            "                                                                 \n",
            " batch_normalization (Batch  (None, 32, 32, 64)        256       \n",
            " Normalization)                                                  \n",
            "                                                                 \n",
            " dropout (Dropout)           (None, 32, 32, 64)        0         \n",
            "                                                                 \n",
            " conv2d_1 (Conv2D)           (None, 32, 32, 64)        36928     \n",
            "                                                                 \n",
            " batch_normalization_1 (Bat  (None, 32, 32, 64)        256       \n",
            " chNormalization)                                                \n",
            "                                                                 \n",
            " max_pooling2d (MaxPooling2  (None, 16, 16, 64)        0         \n",
            " D)                                                              \n",
            "                                                                 \n",
            " conv2d_2 (Conv2D)           (None, 16, 16, 128)       73856     \n",
            "                                                                 \n",
            " batch_normalization_2 (Bat  (None, 16, 16, 128)       512       \n",
            " chNormalization)                                                \n",
            "                                                                 \n",
            " dropout_1 (Dropout)         (None, 16, 16, 128)       0         \n",
            "                                                                 \n",
            " conv2d_3 (Conv2D)           (None, 16, 16, 128)       147584    \n",
            "                                                                 \n",
            " batch_normalization_3 (Bat  (None, 16, 16, 128)       512       \n",
            " chNormalization)                                                \n",
            "                                                                 \n",
            " max_pooling2d_1 (MaxPoolin  (None, 8, 8, 128)         0         \n",
            " g2D)                                                            \n",
            "                                                                 \n",
            " conv2d_4 (Conv2D)           (None, 8, 8, 256)         295168    \n",
            "                                                                 \n",
            " batch_normalization_4 (Bat  (None, 8, 8, 256)         1024      \n",
            " chNormalization)                                                \n",
            "                                                                 \n",
            " dropout_2 (Dropout)         (None, 8, 8, 256)         0         \n",
            "                                                                 \n",
            " conv2d_5 (Conv2D)           (None, 8, 8, 256)         590080    \n",
            "                                                                 \n",
            " batch_normalization_5 (Bat  (None, 8, 8, 256)         1024      \n",
            " chNormalization)                                                \n",
            "                                                                 \n",
            " dropout_3 (Dropout)         (None, 8, 8, 256)         0         \n",
            "                                                                 \n",
            " conv2d_6 (Conv2D)           (None, 8, 8, 256)         590080    \n",
            "                                                                 \n",
            " batch_normalization_6 (Bat  (None, 8, 8, 256)         1024      \n",
            " chNormalization)                                                \n",
            "                                                                 \n",
            " max_pooling2d_2 (MaxPoolin  (None, 4, 4, 256)         0         \n",
            " g2D)                                                            \n",
            "                                                                 \n",
            " conv2d_7 (Conv2D)           (None, 4, 4, 512)         1180160   \n",
            "                                                                 \n",
            " batch_normalization_7 (Bat  (None, 4, 4, 512)         2048      \n",
            " chNormalization)                                                \n",
            "                                                                 \n",
            " dropout_4 (Dropout)         (None, 4, 4, 512)         0         \n",
            "                                                                 \n",
            " conv2d_8 (Conv2D)           (None, 4, 4, 512)         2359808   \n",
            "                                                                 \n",
            " batch_normalization_8 (Bat  (None, 4, 4, 512)         2048      \n",
            " chNormalization)                                                \n",
            "                                                                 \n",
            " dropout_5 (Dropout)         (None, 4, 4, 512)         0         \n",
            "                                                                 \n",
            " conv2d_9 (Conv2D)           (None, 4, 4, 512)         2359808   \n",
            "                                                                 \n",
            " batch_normalization_9 (Bat  (None, 4, 4, 512)         2048      \n",
            " chNormalization)                                                \n",
            "                                                                 \n",
            " max_pooling2d_3 (MaxPoolin  (None, 2, 2, 512)         0         \n",
            " g2D)                                                            \n",
            "                                                                 \n",
            " conv2d_10 (Conv2D)          (None, 2, 2, 512)         2359808   \n",
            "                                                                 \n",
            " batch_normalization_10 (Ba  (None, 2, 2, 512)         2048      \n",
            " tchNormalization)                                               \n",
            "                                                                 \n",
            " dropout_6 (Dropout)         (None, 2, 2, 512)         0         \n",
            "                                                                 \n",
            " conv2d_11 (Conv2D)          (None, 2, 2, 512)         2359808   \n",
            "                                                                 \n",
            " batch_normalization_11 (Ba  (None, 2, 2, 512)         2048      \n",
            " tchNormalization)                                               \n",
            "                                                                 \n",
            " dropout_7 (Dropout)         (None, 2, 2, 512)         0         \n",
            "                                                                 \n",
            " conv2d_12 (Conv2D)          (None, 2, 2, 512)         2359808   \n",
            "                                                                 \n",
            " batch_normalization_12 (Ba  (None, 2, 2, 512)         2048      \n",
            " tchNormalization)                                               \n",
            "                                                                 \n",
            " max_pooling2d_4 (MaxPoolin  (None, 1, 1, 512)         0         \n",
            " g2D)                                                            \n",
            "                                                                 \n",
            " dropout_8 (Dropout)         (None, 1, 1, 512)         0         \n",
            "                                                                 \n",
            " flatten (Flatten)           (None, 512)               0         \n",
            "                                                                 \n",
            " dense (Dense)               (None, 512)               262656    \n",
            "                                                                 \n",
            " batch_normalization_13 (Ba  (None, 512)               2048      \n",
            " tchNormalization)                                               \n",
            "                                                                 \n",
            " dropout_9 (Dropout)         (None, 512)               0         \n",
            "                                                                 \n",
            " dense_1 (Dense)             (None, 100)               51300     \n",
            "                                                                 \n",
            "=================================================================\n",
            "Total params: 15047588 (57.40 MB)\n",
            "Trainable params: 15038116 (57.37 MB)\n",
            "Non-trainable params: 9472 (37.00 KB)\n",
            "_________________________________________________________________\n"
          ]
        }
      ],
      "source": [
        "model.summary()"
      ]
    },
    {
      "cell_type": "code",
      "execution_count": 12,
      "metadata": {
        "id": "yJDgtO1_8rDo"
      },
      "outputs": [],
      "source": [
        "model.compile(optimizer = 'adam', metrics=['accuracy'], loss = 'categorical_crossentropy')"
      ]
    },
    {
      "cell_type": "code",
      "execution_count": 13,
      "metadata": {
        "id": "NQ0CiWbH8rDo",
        "outputId": "9fb116aa-93bf-4279-9443-135747b4e70d",
        "colab": {
          "base_uri": "https://localhost:8080/"
        }
      },
      "outputs": [
        {
          "output_type": "stream",
          "name": "stdout",
          "text": [
            "Epoch 1/10\n",
            "352/352 [==============================] - 49s 88ms/step - loss: 7.0841 - accuracy: 0.0276 - val_loss: 6.7757 - val_accuracy: 0.0230\n",
            "Epoch 2/10\n",
            "352/352 [==============================] - 28s 80ms/step - loss: 6.0063 - accuracy: 0.0537 - val_loss: 5.8299 - val_accuracy: 0.0538\n",
            "Epoch 3/10\n",
            "352/352 [==============================] - 27s 78ms/step - loss: 5.3211 - accuracy: 0.0810 - val_loss: 5.2646 - val_accuracy: 0.0730\n",
            "Epoch 4/10\n",
            "352/352 [==============================] - 28s 80ms/step - loss: 4.8720 - accuracy: 0.1059 - val_loss: 4.8404 - val_accuracy: 0.0916\n",
            "Epoch 5/10\n",
            "352/352 [==============================] - 28s 80ms/step - loss: 4.4668 - accuracy: 0.1399 - val_loss: 4.4227 - val_accuracy: 0.1486\n",
            "Epoch 6/10\n",
            "352/352 [==============================] - 28s 79ms/step - loss: 4.2018 - accuracy: 0.1738 - val_loss: 4.9242 - val_accuracy: 0.1438\n",
            "Epoch 7/10\n",
            "352/352 [==============================] - 28s 79ms/step - loss: 4.0267 - accuracy: 0.2038 - val_loss: 4.5961 - val_accuracy: 0.2108\n",
            "Epoch 8/10\n",
            "352/352 [==============================] - 28s 79ms/step - loss: 3.9251 - accuracy: 0.2285 - val_loss: 3.8588 - val_accuracy: 0.2386\n",
            "Epoch 9/10\n",
            "352/352 [==============================] - 29s 81ms/step - loss: 3.8249 - accuracy: 0.2542 - val_loss: 3.8607 - val_accuracy: 0.2678\n",
            "Epoch 10/10\n",
            "352/352 [==============================] - 28s 79ms/step - loss: 3.8048 - accuracy: 0.2758 - val_loss: 3.9018 - val_accuracy: 0.2632\n"
          ]
        }
      ],
      "source": [
        "history_vgg_scratch = model.fit(x = x_train, y = y_train, epochs = 10, validation_split=0.1, batch_size=128)"
      ]
    },
    {
      "cell_type": "code",
      "execution_count": 14,
      "metadata": {
        "id": "HZPeE5Yo8rDo"
      },
      "outputs": [],
      "source": [
        "with open('hisory_vgg_scratch.pkl', 'wb') as f:\n",
        "    pickle.dump(history_vgg_scratch.history, f)\n",
        "f.close()"
      ]
    },
    {
      "cell_type": "code",
      "execution_count": 15,
      "metadata": {
        "id": "dMbNpAsE8rDo"
      },
      "outputs": [],
      "source": [
        "file = open('hisory_vgg_scratch.pkl', 'rb')\n",
        "history_vgg_scratch = pickle.load(file)\n",
        "file.close()"
      ]
    },
    {
      "cell_type": "code",
      "execution_count": 16,
      "metadata": {
        "id": "yXV525Rq8rDp",
        "outputId": "b1a57ff0-998d-40f2-96a1-1b696d8d925a",
        "colab": {
          "base_uri": "https://localhost:8080/"
        }
      },
      "outputs": [
        {
          "output_type": "stream",
          "name": "stdout",
          "text": [
            "313/313 [==============================] - 4s 9ms/step\n"
          ]
        }
      ],
      "source": [
        "vgg_scratch_predictions = model.predict(x_test)"
      ]
    },
    {
      "cell_type": "code",
      "execution_count": 17,
      "metadata": {
        "id": "E6phsknt8rDp"
      },
      "outputs": [],
      "source": [
        "with open('vgg_scratch_predictions.pkl', 'wb') as f:\n",
        "    pickle.dump(vgg_scratch_predictions, f)\n",
        "f.close()"
      ]
    },
    {
      "cell_type": "code",
      "execution_count": 18,
      "metadata": {
        "id": "Z-tA5h_r8rDp"
      },
      "outputs": [],
      "source": [
        "file = open('vgg_scratch_predictions.pkl', 'rb')\n",
        "vgg_scratch_predictions = pickle.load(file)\n",
        "file.close()"
      ]
    },
    {
      "cell_type": "code",
      "execution_count": 19,
      "metadata": {
        "id": "2cJwsBoc8rDp",
        "outputId": "f688c8f3-9b28-47e2-d7c8-748a42576c93",
        "colab": {
          "base_uri": "https://localhost:8080/"
        }
      },
      "outputs": [
        {
          "output_type": "stream",
          "name": "stdout",
          "text": [
            "0.2717\n"
          ]
        }
      ],
      "source": [
        "print(get_accuracy_score(vgg_scratch_predictions, y_test))"
      ]
    },
    {
      "cell_type": "code",
      "execution_count": 20,
      "metadata": {
        "id": "ig3gHFph8rDp",
        "outputId": "d105b2ed-cdc4-4d11-8a33-60d855c75ea8",
        "colab": {
          "base_uri": "https://localhost:8080/",
          "height": 887
        }
      },
      "outputs": [
        {
          "output_type": "display_data",
          "data": {
            "text/plain": [
              "<Figure size 640x480 with 1 Axes>"
            ],
            "image/png": "[encoded data removed]"
          },
          "metadata": {}
        },
        {
          "output_type": "display_data",
          "data": {
            "text/plain": [
              "<Figure size 640x480 with 1 Axes>"
            ],
            "image/png": "[encoded data removed]"
          },
          "metadata": {}
        }
      ],
      "source": [
        "plt.plot(np.arange(1,11), history_vgg_scratch['accuracy'])\n",
        "plt.plot(np.arange(1,11), history_vgg_scratch['val_accuracy'])\n",
        "plt.legend(['Training Accuracy', 'Validation Accuracy'])\n",
        "plt.title('VGG16')\n",
        "plt.show()\n",
        "\n",
        "plt.plot(np.arange(1,11), history_vgg_scratch['loss'])\n",
        "plt.plot(np.arange(1,11), history_vgg_scratch['val_loss'])\n",
        "plt.legend(['Training Loss', 'Validation Loss'])\n",
        "plt.title('VGG16')\n",
        "plt.show()"
      ]
    },
    {
      "cell_type": "code",
      "source": [],
      "metadata": {
        "id": "7iiFQ6zAoPYI"
      },
      "execution_count": 20,
      "outputs": []
    }
  ],
  "metadata": {
    "kernelspec": {
      "display_name": "Python 3",
      "name": "python3"
    },
    "language_info": {
      "codemirror_mode": {
        "name": "ipython",
        "version": 3
      },
      "file_extension": ".py",
      "mimetype": "text/x-python",
      "name": "python",
      "nbconvert_exporter": "python",
      "pygments_lexer": "ipython3",
      "version": "3.10.9"
    },
    "colab": {
      "provenance": [],
      "name": "VGG16 from scratch - DH",
      "gpuType": "T4"
    },
    "accelerator": "GPU"
  },
  "nbformat": 4,
  "nbformat_minor": 0
}