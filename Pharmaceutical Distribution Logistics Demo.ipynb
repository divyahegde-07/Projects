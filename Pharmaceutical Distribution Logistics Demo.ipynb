{
 "cells": [
  {
   "cell_type": "code",
   "execution_count": 57,
   "id": "0ace5685",
   "metadata": {},
   "outputs": [
    {
     "name": "stdout",
     "output_type": "stream",
     "text": [
      "Requirement already satisfied: mysql-connector-python in /Users/divyahegde/anaconda3/lib/python3.10/site-packages (8.2.0)\n",
      "Requirement already satisfied: protobuf<=4.21.12,>=4.21.1 in /Users/divyahegde/anaconda3/lib/python3.10/site-packages (from mysql-connector-python) (4.21.12)\n",
      "Note: you may need to restart the kernel to use updated packages.\n"
     ]
    }
   ],
   "source": [
    "pip install mysql-connector-python"
   ]
  },
  {
   "cell_type": "code",
   "execution_count": null,
   "id": "0d2131d5",
   "metadata": {},
   "outputs": [],
   "source": []
  },
  {
   "cell_type": "code",
   "execution_count": 76,
   "id": "6663dac7",
   "metadata": {},
   "outputs": [],
   "source": [
    "import mysql.connector\n",
    "import matplotlib.pyplot as plt\n",
    "import plotly.express as px\n",
    "import pandas as pd\n",
    "import seaborn as sns\n",
    "import datetime\n",
    "import numpy as np\n",
    "import random\n",
    "\n",
    "sns.set()"
   ]
  },
  {
   "cell_type": "markdown",
   "id": "b1a7cda7",
   "metadata": {},
   "source": [
    "# Establish Conncetion"
   ]
  },
  {
   "cell_type": "code",
   "execution_count": 77,
   "id": "2960d0ad",
   "metadata": {},
   "outputs": [],
   "source": [
    "mydb = mysql.connector.connect(\n",
    "  host=\"localhost\",\n",
    "  user=\"root\",\n",
    "  password=\"Zoobnoob1\",\n",
    "  database=\"pharma\"\n",
    ")"
   ]
  },
  {
   "cell_type": "markdown",
   "id": "3d9013a3",
   "metadata": {},
   "source": [
    "# Utility Functions"
   ]
  },
  {
   "cell_type": "markdown",
   "id": "09c20ca4",
   "metadata": {},
   "source": [
    "## Place order"
   ]
  },
  {
   "cell_type": "code",
   "execution_count": 78,
   "id": "5fb742d6",
   "metadata": {},
   "outputs": [],
   "source": [
    "def askwhatOrder():\n",
    "    chemList = []\n",
    "    isAvailable = 1\n",
    "    keepAsking = True\n",
    "    drugPrice ={}\n",
    "    drugNameID = {}\n",
    "    drug = ''\n",
    "    quantity = ''\n",
    "    totalVal = 0\n",
    "    eachTotal = 0\n",
    "    drugsList = []\n",
    "    eachDrugPrice = {}\n",
    "    \n",
    "    digitquery = \"\"\"SELECT ID\n",
    "    FROM Orders\n",
    "    ORDER BY ID desc\n",
    "    LIMIT 1\"\"\"\n",
    "    mydb = mysql.connector.connect(\n",
    "                      host=\"localhost\",\n",
    "                      user=\"root\",\n",
    "                      password=\"Zoobnoob1\",\n",
    "                      database=\"pharma\"\n",
    "                    )\n",
    "    mycursor = mydb.cursor()\n",
    "    mycursor.execute(digitquery)\n",
    "    myresult = mycursor.fetchall()\n",
    "    mycursor.close()\n",
    "    for x in myresult:\n",
    "        digitStr = int(x[0][3:]) + 1\n",
    "\n",
    "    path = input(\"What orders do you want to place today? Type B for Distributor. Type V for Vendor order placement\")\n",
    "    print(\"\\n\")\n",
    "    \n",
    "    if (path == 'B'):\n",
    "        \n",
    "        userId = input('Enter the distributor ID: ')\n",
    "       \n",
    "        mycursor = mydb.cursor()\n",
    "        mycursor.execute(\"SELECT * FROM Drugs\")\n",
    "        myresult = mycursor.fetchall()\n",
    "        mycursor.close() \n",
    "        \n",
    "        while (keepAsking):\n",
    "            print(\"\\nPlease select the drug you want: \")\n",
    "            for x in myresult:\n",
    "                drugPrice[x[1]] = x[6]\n",
    "                drugNameID[x[1]] = x[0]\n",
    "                print(x[1])\n",
    "            drug = input(\"\\nEnter the drug you want to order: \")\n",
    "            quantity = input(\"\\nEnter the quantity you want: \")\n",
    "            \n",
    "            mycursor = mydb.cursor()\n",
    "            mycursor.callproc(\"get_drug_stock\",(drug,quantity))\n",
    "\n",
    "            for result in mycursor.stored_results():\n",
    "                res = result.fetchall()\n",
    "                stock = int(res[0][0])\n",
    "\n",
    "            mycursor.close() \n",
    "\n",
    "            if(stock >= int(quantity)):\n",
    "                eachTotal = drugPrice[drug] * int(quantity)\n",
    "                totalVal = totalVal + eachTotal\n",
    "                drugsList.append(drug)\n",
    "                eachDrugPrice[drug] = (eachTotal,quantity)\n",
    "\n",
    "                decision = input(\"\\nDo you want to buy more drugs? type Yes to continue and No to stop\").lower()\n",
    "                keepAsking = True if decision == 'yes' else False\n",
    "            else:\n",
    "                print(\"The drug you want to order is not available or is less in quantity\")\n",
    "        \n",
    "        random_month = random.randint(1,12)\n",
    "        random_date = random.randint(1,28)\n",
    "            \n",
    "        mycursor = mydb.cursor()\n",
    "        mycursor.callproc(\"create_order\",((\"OD0\"+str(digitStr)),datetime.date(2020, random_month, random_date), float(totalVal), userId,))\n",
    "        \n",
    "        mydb.commit()\n",
    "        \n",
    "        for drg in drugsList:\n",
    "        \n",
    "            mycursor.callproc(\"push_drugs_in_order\",((\"OD0\"+str(digitStr)),drugNameID[drg], eachDrugPrice[drg][1], float(eachDrugPrice[drg][0]),))\n",
    "            mydb.commit()\n",
    "            \n",
    "    elif (path == 'V'):\n",
    "        while(keepAsking):\n",
    "            mycursor = mydb.cursor()\n",
    "            mycursor.execute(\"SELECT * FROM Chemicals\")\n",
    "            myresult = mycursor.fetchall()\n",
    "            mycursor.close()\n",
    "\n",
    "            chemIDName = {}\n",
    "\n",
    "            print(\"\\nPlease select the chemical you want: \")\n",
    "            for x in myresult:\n",
    "                chemIDName[x[0]] = x[1]\n",
    "                print(x[0],\":\",x[1])\n",
    "                \n",
    "            chem = input(\"\\nEnter the ID of the chemical you want to order: \")\n",
    "\n",
    "            VendorIDPrice = {}\n",
    "\n",
    "            query = \"\"\"SELECT vi.Vendor_ID, v.Name, vi.Price_per_packet \n",
    "            FROM Vendor_Inventory AS vi\n",
    "            JOIN Vendor as v\n",
    "            ON vi.Vendor_ID = v.Vendor_ID\n",
    "            WHERE vi.Chemical_ID = \\\"{}\\\"\"\"\".format(chem)\n",
    "\n",
    "            mycursor = mydb.cursor()\n",
    "            mycursor.execute(query)\n",
    "            myresult = mycursor.fetchall()\n",
    "            mycursor.close()\n",
    "\n",
    "            print(\"\\nThe following vendors offer {}\".format(chemIDName[chem]))\n",
    "            for x in myresult:\n",
    "                print(x[0],x[1],\"${} per packet\".format(x[2]))\n",
    "                VendorIDPrice[x[0]] = x[2]\n",
    "\n",
    "            vendorID = input(\"\\nEnter the ID of the vendor you want to place the order from: \")\n",
    "            quantity = input(\"\\nEnter the quantity (in 1k packets): \")\n",
    "\n",
    "            totalVal = VendorIDPrice[vendorID] * int(quantity)\n",
    "\n",
    "            args = (chem,float(quantity),float(totalVal))\n",
    "            chemList.append(args)\n",
    "\n",
    "            cont = input(\"\\nBuy more chemicals?(Yes/No):\")\n",
    "            if cont == \"Yes\":\n",
    "                keepAsking = True\n",
    "            else:\n",
    "                keepAsking = False\n",
    "\n",
    "        totalOrderVal = 0\n",
    "        for c in chemList:\n",
    "            totalOrderVal += c[2]\n",
    "            \n",
    "        random_month = random.randint(1,12)\n",
    "        random_date = random.randint(1,28)\n",
    "\n",
    "        mycursor = mydb.cursor()\n",
    "        mycursor.callproc(\"create_order\",((\"OD0\"+str(digitStr)),datetime.date(2020, random_month, random_date), float(totalOrderVal), vendorID,))\n",
    "        mydb.commit()\n",
    "        \n",
    "        for c in chemList:\n",
    "            mycursor.callproc(\"push_chemicals_in_order\",((\"OD0\"+str(digitStr)),c[0],c[1],c[2]))\n",
    "            mydb.commit()"
   ]
  },
  {
   "cell_type": "code",
   "execution_count": 79,
   "id": "24789116",
   "metadata": {
    "scrolled": true
   },
   "outputs": [
    {
     "name": "stdout",
     "output_type": "stream",
     "text": [
      "What orders do you want to place today? Type B for Distributor. Type V for Vendor order placementB\n",
      "\n",
      "\n",
      "Enter the distributor ID: B001\n",
      "\n",
      "Please select the drug you want: \n",
      "omeprazole\n",
      "Aspirin\n",
      "cimetidine\n",
      "Acetaminophen\n",
      "lansoprazole\n",
      "Fluticasone\n",
      "bisacodyl\n",
      "Pseudoephedrine\n",
      "Pepto Bismol\n",
      "Loratadine\n",
      "Dramamine\n",
      "Prednisone\n",
      "triamcinolone\n",
      "\n",
      "Enter the drug you want to order: Dramamine\n",
      "\n",
      "Enter the quantity you want: 2\n",
      "The drug you want to order is not available or is less in quantity\n",
      "\n",
      "Please select the drug you want: \n",
      "omeprazole\n",
      "Aspirin\n",
      "cimetidine\n",
      "Acetaminophen\n",
      "lansoprazole\n",
      "Fluticasone\n",
      "bisacodyl\n",
      "Pseudoephedrine\n",
      "Pepto Bismol\n",
      "Loratadine\n",
      "Dramamine\n",
      "Prednisone\n",
      "triamcinolone\n",
      "\n",
      "Enter the drug you want to order: Aspirin\n",
      "\n",
      "Enter the quantity you want: 2\n",
      "The drug you want to order is not available or is less in quantity\n",
      "\n",
      "Please select the drug you want: \n",
      "omeprazole\n",
      "Aspirin\n",
      "cimetidine\n",
      "Acetaminophen\n",
      "lansoprazole\n",
      "Fluticasone\n",
      "bisacodyl\n",
      "Pseudoephedrine\n",
      "Pepto Bismol\n",
      "Loratadine\n",
      "Dramamine\n",
      "Prednisone\n",
      "triamcinolone\n",
      "\n",
      "Enter the drug you want to order: triamcinolone\n",
      "\n",
      "Enter the quantity you want: 2\n",
      "\n",
      "Do you want to buy more drugs? type Yes to continue and No to stopNo\n"
     ]
    }
   ],
   "source": [
    "askwhatOrder()"
   ]
  },
  {
   "cell_type": "markdown",
   "id": "fb3296cb",
   "metadata": {},
   "source": [
    "# Get best vendor"
   ]
  },
  {
   "cell_type": "code",
   "execution_count": 82,
   "id": "09fbeea4",
   "metadata": {},
   "outputs": [],
   "source": [
    "def getBestOption():\n",
    "    mycursor = mydb.cursor()\n",
    "    mycursor.execute(\"SELECT * FROM Chemicals\")\n",
    "    myresult = mycursor.fetchall()\n",
    "    mycursor.close()\n",
    "\n",
    "    chemIDName = {}\n",
    "    print(\"Please select the chemical you want: \")\n",
    "    for x in myresult:\n",
    "        chemIDName[x[0]] = x[1]\n",
    "        print(x[0],\":\",x[1])\n",
    "    print(\"\\n\")\n",
    "    chem = input(\"Enter the chemical you want to place an order for: \")\n",
    "    print(chem)\n",
    "    x = 2\n",
    "    sortBy = input(\"Enter C for the cheapest option or F for the fastest delivery: \").lower()\n",
    "    \n",
    "    sqlQuery = \"select get_cheapest_vendor(%s)\"\n",
    "    mycursor = mydb.cursor()\n",
    "    \n",
    "    if(sortBy == 'c'):\n",
    "        sqlQuery     = \"select get_cheapest_vendor(%s)\"\n",
    "        mycursor.execute(sqlQuery,(chem,))\n",
    "        myResults = mycursor.fetchall()\n",
    "        for result in myResults:\n",
    "            print(result[0]+ \" is the cheapest vendor for this chemical.\")\n",
    "        \n",
    "    elif(sortBy == 'f'):\n",
    "        sqlQuery     = \"select get_fastest_vendor(%s)\"\n",
    "        mycursor.execute(sqlQuery,(chem,))\n",
    "        myResults = mycursor.fetchall()\n",
    "        for result in myResults:\n",
    "            print(result[0]+ \" is the fastest vendor for this chemical.\")\n"
   ]
  },
  {
   "cell_type": "code",
   "execution_count": 83,
   "id": "56311bcd",
   "metadata": {},
   "outputs": [
    {
     "name": "stdout",
     "output_type": "stream",
     "text": [
      "Please select the chemical you want: \n",
      "C001 : acetylsalicylic acid\n",
      "C002 : hypromellose\n",
      "C003 : mannitol\n",
      "C004 : N-(4-hydroxyphenyl)acetamide\n",
      "C005 : povidone\n",
      "C006 : benzimidazole\n",
      "C007 : titanium dioxide\n",
      "C008 : magnesium carbonate\n",
      "C009 : polyethylene glycol\n",
      "C010 : hydroxypropyl cellulose\n",
      "C011 : fluticasone propylate\n",
      "C012 : magnesium stearate\n",
      "C013 : Pseudoephedrine hydrochloride\n",
      "C014 : Loratadine\n",
      "C015 : bismuth subsalicylate\n",
      "C016 : silicon dioxide\n",
      "C017 : prednisolone\n",
      "C018 : dimenhydrinate\n",
      "C019 : lactose\n",
      "C020 : Glycerin\n",
      "C021 : Isopropyl Palmitate\n",
      "\n",
      "\n",
      "Enter the chemical you want to place an order for: hypromellose\n",
      "hypromellose\n",
      "Enter C for the cheapest option or F for the fastest delivery: C\n",
      "V012 is the cheapest vendor for this chemical.\n"
     ]
    }
   ],
   "source": [
    "getBestOption()"
   ]
  },
  {
   "cell_type": "markdown",
   "id": "6891f8f3",
   "metadata": {},
   "source": [
    "# View Approvals"
   ]
  },
  {
   "cell_type": "code",
   "execution_count": 84,
   "id": "ac0a352d",
   "metadata": {},
   "outputs": [],
   "source": [
    "mycursor = mydb.cursor()\n",
    "mycursor.execute(\"SELECT * FROM approvals_for_board;\")\n",
    "myresult = mycursor.fetchall()\n",
    "drugNameList = []\n",
    "approvedList = []\n",
    "for result in myresult:\n",
    "    drugNameList.append(result[1])\n",
    "    approvedList.append(result[2])\n",
    "data = {'Name' : drugNameList, 'Lab Approved' : approvedList}\n",
    "drugLabResults = pd.DataFrame(data)"
   ]
  },
  {
   "cell_type": "code",
   "execution_count": 85,
   "id": "bc00ad2f",
   "metadata": {},
   "outputs": [
    {
     "data": {
      "text/html": [
       "<div>\n",
       "<style scoped>\n",
       "    .dataframe tbody tr th:only-of-type {\n",
       "        vertical-align: middle;\n",
       "    }\n",
       "\n",
       "    .dataframe tbody tr th {\n",
       "        vertical-align: top;\n",
       "    }\n",
       "\n",
       "    .dataframe thead th {\n",
       "        text-align: right;\n",
       "    }\n",
       "</style>\n",
       "<table border=\"1\" class=\"dataframe\">\n",
       "  <thead>\n",
       "    <tr style=\"text-align: right;\">\n",
       "      <th></th>\n",
       "      <th>Name</th>\n",
       "      <th>Lab Approved</th>\n",
       "    </tr>\n",
       "  </thead>\n",
       "  <tbody>\n",
       "    <tr>\n",
       "      <th>0</th>\n",
       "      <td>omeprazole</td>\n",
       "      <td>Yes</td>\n",
       "    </tr>\n",
       "    <tr>\n",
       "      <th>1</th>\n",
       "      <td>cimetidine</td>\n",
       "      <td>Pending</td>\n",
       "    </tr>\n",
       "    <tr>\n",
       "      <th>2</th>\n",
       "      <td>lansoprazole</td>\n",
       "      <td>Yes</td>\n",
       "    </tr>\n",
       "    <tr>\n",
       "      <th>3</th>\n",
       "      <td>Fluticasone</td>\n",
       "      <td>Yes</td>\n",
       "    </tr>\n",
       "    <tr>\n",
       "      <th>4</th>\n",
       "      <td>bisacodyl</td>\n",
       "      <td>Yes</td>\n",
       "    </tr>\n",
       "    <tr>\n",
       "      <th>5</th>\n",
       "      <td>Pepto Bismol</td>\n",
       "      <td>Yes</td>\n",
       "    </tr>\n",
       "    <tr>\n",
       "      <th>6</th>\n",
       "      <td>Dramamine</td>\n",
       "      <td>Yes</td>\n",
       "    </tr>\n",
       "    <tr>\n",
       "      <th>7</th>\n",
       "      <td>triamcinolone</td>\n",
       "      <td>Pending</td>\n",
       "    </tr>\n",
       "  </tbody>\n",
       "</table>\n",
       "</div>"
      ],
      "text/plain": [
       "            Name Lab Approved\n",
       "0     omeprazole          Yes\n",
       "1     cimetidine      Pending\n",
       "2   lansoprazole          Yes\n",
       "3    Fluticasone          Yes\n",
       "4      bisacodyl          Yes\n",
       "5   Pepto Bismol          Yes\n",
       "6      Dramamine          Yes\n",
       "7  triamcinolone      Pending"
      ]
     },
     "execution_count": 85,
     "metadata": {},
     "output_type": "execute_result"
    }
   ],
   "source": [
    "drugLabResults"
   ]
  },
  {
   "cell_type": "markdown",
   "id": "2bcf19d7",
   "metadata": {},
   "source": [
    "# View top drug sales"
   ]
  },
  {
   "cell_type": "code",
   "execution_count": 86,
   "id": "2d6d7efa",
   "metadata": {},
   "outputs": [],
   "source": [
    "mycursor = mydb.cursor()\n",
    "mycursor.execute(\"SELECT * FROM top_drug_sales;\")\n",
    "myresult = mycursor.fetchall()\n",
    "drugNameList = []\n",
    "PriceList = []\n",
    "for result in myresult:\n",
    "    drugNameList.append(result[0])\n",
    "    PriceList.append(result[1])\n",
    "data = {'Name' : drugNameList, 'Order_Price' : PriceList}\n",
    "topdrugOrders = pd.DataFrame(data)"
   ]
  },
  {
   "cell_type": "code",
   "execution_count": 87,
   "id": "2c73fff1",
   "metadata": {},
   "outputs": [
    {
     "data": {
      "text/html": [
       "<div>\n",
       "<style scoped>\n",
       "    .dataframe tbody tr th:only-of-type {\n",
       "        vertical-align: middle;\n",
       "    }\n",
       "\n",
       "    .dataframe tbody tr th {\n",
       "        vertical-align: top;\n",
       "    }\n",
       "\n",
       "    .dataframe thead th {\n",
       "        text-align: right;\n",
       "    }\n",
       "</style>\n",
       "<table border=\"1\" class=\"dataframe\">\n",
       "  <thead>\n",
       "    <tr style=\"text-align: right;\">\n",
       "      <th></th>\n",
       "      <th>Name</th>\n",
       "      <th>Order_Price</th>\n",
       "    </tr>\n",
       "  </thead>\n",
       "  <tbody>\n",
       "    <tr>\n",
       "      <th>0</th>\n",
       "      <td>D001</td>\n",
       "      <td>omeprazole</td>\n",
       "    </tr>\n",
       "    <tr>\n",
       "      <th>1</th>\n",
       "      <td>D002</td>\n",
       "      <td>Aspirin</td>\n",
       "    </tr>\n",
       "    <tr>\n",
       "      <th>2</th>\n",
       "      <td>D003</td>\n",
       "      <td>cimetidine</td>\n",
       "    </tr>\n",
       "    <tr>\n",
       "      <th>3</th>\n",
       "      <td>D004</td>\n",
       "      <td>Acetaminophen</td>\n",
       "    </tr>\n",
       "    <tr>\n",
       "      <th>4</th>\n",
       "      <td>D005</td>\n",
       "      <td>lansoprazole</td>\n",
       "    </tr>\n",
       "  </tbody>\n",
       "</table>\n",
       "</div>"
      ],
      "text/plain": [
       "   Name    Order_Price\n",
       "0  D001     omeprazole\n",
       "1  D002        Aspirin\n",
       "2  D003     cimetidine\n",
       "3  D004  Acetaminophen\n",
       "4  D005   lansoprazole"
      ]
     },
     "execution_count": 87,
     "metadata": {},
     "output_type": "execute_result"
    }
   ],
   "source": [
    "topdrugOrders"
   ]
  },
  {
   "cell_type": "markdown",
   "id": "508d6e54",
   "metadata": {},
   "source": [
    "# View ingredients of a drug"
   ]
  },
  {
   "cell_type": "code",
   "execution_count": 88,
   "id": "c8081907",
   "metadata": {},
   "outputs": [
    {
     "name": "stdout",
     "output_type": "stream",
     "text": [
      "Enter the drug name:\n"
     ]
    }
   ],
   "source": [
    "drugName = input(\"Enter the drug name:\")\n",
    "\n",
    "mycursor = mydb.cursor()\n",
    "callproc = \"CALL get_chemicals_in_drug(\\\"{}\\\")\".format(drugName)\n",
    "mycursor.execute(callproc)\n",
    "myresult = mycursor.fetchall()\n",
    "mycursor.close()\n",
    "\n",
    "chemId = []\n",
    "chemName = []\n",
    "chemStock = []\n",
    "chemRatio = []\n",
    "\n",
    "for result in myresult:\n",
    "    chemId.append(result[0])\n",
    "    chemName.append(result[1])\n",
    "    chemStock.append(result[2])\n",
    "    chemRatio.append(result[3])\n",
    "    \n",
    "data = {\"Chemical ID\":chemId, \"Name\":chemName, \"Current Stock(in 1k packets)\":chemStock, \"Mix in Parts\":chemRatio}\n",
    "drugIngredients = pd.DataFrame(data)"
   ]
  },
  {
   "cell_type": "code",
   "execution_count": null,
   "id": "65a7a15d",
   "metadata": {},
   "outputs": [],
   "source": [
    "drugIngredients"
   ]
  },
  {
   "cell_type": "markdown",
   "id": "2c359be7",
   "metadata": {},
   "source": [
    "# Analytics"
   ]
  },
  {
   "cell_type": "markdown",
   "id": "bca780a7",
   "metadata": {},
   "source": [
    "## Find profit for custom date range"
   ]
  },
  {
   "cell_type": "code",
   "execution_count": 60,
   "id": "919e7342",
   "metadata": {},
   "outputs": [],
   "source": [
    "def find_profits():\n",
    "    print(\"Enter the dates between which you would like to see the profits\")\n",
    "    start = input(\"Starting date:\")\n",
    "    end = input(\"Ending data:\")\n",
    "    \n",
    "    query = \"SELECT get_profits(%s,%s)\"\n",
    "    placeholder = (start,end)\n",
    "    \n",
    "    mycursor = mydb.cursor()\n",
    "    mycursor.execute(query,placeholder)\n",
    "    myresult = mycursor.fetchall()\n",
    "    mycursor.close()\n",
    "    \n",
    "    for x in myresult:\n",
    "        print(\"${}k\".format(x[0]))"
   ]
  },
  {
   "cell_type": "code",
   "execution_count": 61,
   "id": "cab8e7c3",
   "metadata": {},
   "outputs": [
    {
     "name": "stdout",
     "output_type": "stream",
     "text": [
      "Enter the dates between which you would like to see the profits\n",
      "Starting date:2020-01-01\n",
      "Ending data:2020-01-30\n",
      "$-1k\n"
     ]
    }
   ],
   "source": [
    "find_profits()"
   ]
  },
  {
   "cell_type": "markdown",
   "id": "8455e65e",
   "metadata": {},
   "source": [
    "## Monthly Profit over 2020"
   ]
  },
  {
   "cell_type": "code",
   "execution_count": 62,
   "id": "0ccfb0ea",
   "metadata": {},
   "outputs": [],
   "source": [
    "def get_profit_by_month():\n",
    "    profits = []\n",
    "    months = list(range(1,13))\n",
    "    for i in range(len(months)):\n",
    "        if months[i] > 9:\n",
    "            s = \"2020-{}-01\".format(months[i])\n",
    "            if months[i] == 12:\n",
    "                e = \"2021-01-01\"\n",
    "            else:\n",
    "                e = \"2020-{}-01\".format(months[i+1])\n",
    "        else:\n",
    "            s = \"2020-0{}-01\".format(months[i])\n",
    "            if months[i] == 9:\n",
    "                e = \"2020-10-01\"\n",
    "            else:\n",
    "                e = \"2020-0{}-01\".format(months[i+1])\n",
    "                \n",
    "        query = \"SELECT get_profits(%s,%s)\"\n",
    "        dates = (s,e)\n",
    "        \n",
    "        mycursor = mydb.cursor()\n",
    "        mycursor.execute(query,dates)\n",
    "        myresult = mycursor.fetchall()\n",
    "        mycursor.close()\n",
    "        \n",
    "        for x in myresult:\n",
    "            profits.append(x[0])\n",
    "\n",
    "    return profits"
   ]
  },
  {
   "cell_type": "code",
   "execution_count": 63,
   "id": "0c8aaab5",
   "metadata": {},
   "outputs": [],
   "source": [
    "def print_profits_by_month():\n",
    "    profits = get_profit_by_month()\n",
    "    profits_dict = {}\n",
    "    months = [\"Jan\",\"Feb\",\"Mar\",\"Apr\",\"May\",\"Jun\",\"Jul\",\"Aug\",\"Sep\",\"Oct\",\"Nov\",\"Dec\"]\n",
    "    for m,i in zip(months,profits):\n",
    "        profits_dict[m] = i\n",
    "        \n",
    "    return profits_dict"
   ]
  },
  {
   "cell_type": "code",
   "execution_count": 64,
   "id": "01db13f0",
   "metadata": {},
   "outputs": [],
   "source": [
    "profit_dict = print_profits_by_month()"
   ]
  },
  {
   "cell_type": "code",
   "execution_count": 65,
   "id": "ecb3b027",
   "metadata": {},
   "outputs": [
    {
     "data": {
      "image/png": "[encoded data removed]",
      "text/plain": [
       "<Figure size 800x800 with 1 Axes>"
      ]
     },
     "metadata": {},
     "output_type": "display_data"
    }
   ],
   "source": [
    "plt.figure(figsize=(8, 8))\n",
    "\n",
    "plots = sns.barplot(x=list(profit_dict.keys()), y=list(profit_dict.values()))\n",
    "\n",
    "for bar in plots.patches:\n",
    "    plots.annotate(format(bar.get_height(), '.2f'), \n",
    "                    (bar.get_x() + bar.get_width() / 2, \n",
    "                    bar.get_height()), ha='center', va='center',\n",
    "                size=15, xytext=(0, 8),\n",
    "                textcoords='offset points')\n",
    "\n",
    "plt.xlabel(\"Months\", size=14)\n",
    "plt.ylabel(\"Profit\", size=14)\n",
    "plt.title(\"Monthly Profits in 2020\")\n",
    "\n",
    "plt.show()"
   ]
  },
  {
   "cell_type": "markdown",
   "id": "1ec7e858",
   "metadata": {},
   "source": [
    "## Contribution of each drug to total sales"
   ]
  },
  {
   "cell_type": "code",
   "execution_count": 66,
   "id": "c8721f48",
   "metadata": {},
   "outputs": [
    {
     "data": {
      "image/png": "[encoded data removed]",
      "text/plain": [
       "<Figure size 640x480 with 1 Axes>"
      ]
     },
     "metadata": {},
     "output_type": "display_data"
    }
   ],
   "source": [
    "drugNameList = []\n",
    "salesValue = []\n",
    "\n",
    "mycursor = mydb.cursor()\n",
    "mycursor.execute(\"SELECT d.Name,SUM(Total_Price) FROM Drugs_in_Orders as dio JOIN Drugs as d ON d.ID = dio.Drugs_ID GROUP BY Drugs_ID;\")\n",
    "myresult = mycursor.fetchall()\n",
    "mycursor.close()\n",
    "\n",
    "for result in myresult:\n",
    "    drugNameList.append(result[0])\n",
    "    salesValue.append(result[1])\n",
    "\n",
    "plt.pie(salesValue, labels = drugNameList,autopct='%1.0f%%', pctdistance=1.1, labeldistance=1.2)\n",
    "plt.show()"
   ]
  },
  {
   "cell_type": "markdown",
   "id": "3846c2ea",
   "metadata": {},
   "source": [
    "## Difference between listed delivery time and actual delivery time"
   ]
  },
  {
   "cell_type": "code",
   "execution_count": 67,
   "id": "041188a1",
   "metadata": {},
   "outputs": [],
   "source": [
    "query = \"\"\"SELECT v.Vendor_ID, v.Average_Shipping_Time_in_days, s.ETA_in_days\n",
    "FROM Orders as o\n",
    "JOIN Vendor as v\n",
    "ON o.Recipient_ID = v.Vendor_ID\n",
    "JOIN Ships as s\n",
    "ON o.ID = s.Order_ID\n",
    "WHERE Recipient_ID LIKE \\\"V%\\\";\"\"\"\n",
    "\n",
    "mycursor = mydb.cursor()\n",
    "mycursor.execute(query)\n",
    "myresult = mycursor.fetchall()\n",
    "mycursor.close()\n",
    "\n",
    "vendor = []\n",
    "averageTime = []\n",
    "eta = []\n",
    "\n",
    "for result in myresult:\n",
    "    vendor.append(result[0])\n",
    "    averageTime.append(int(result[1]))\n",
    "    eta.append(int(result[2]))\n",
    "    \n",
    "data = {\"Vendor\":vendor, \"Average Delivery Time (in days)\": averageTime, \"Actual ETA (in days)\": eta}\n",
    "deliverydifference = pd.DataFrame(data)"
   ]
  },
  {
   "cell_type": "code",
   "execution_count": 68,
   "id": "675821e7",
   "metadata": {},
   "outputs": [
    {
     "data": {
      "image/png": "[encoded data removed]",
      "text/plain": [
       "<Figure size 640x480 with 1 Axes>"
      ]
     },
     "metadata": {},
     "output_type": "display_data"
    }
   ],
   "source": [
    "x = np.arange(len(vendor))\n",
    "plt.bar(x-0.2, averageTime, 0.4) \n",
    "plt.bar(x+0.2, eta, 0.4) \n",
    "plt.xticks(x,vendor)\n",
    "plt.xlabel(\"Vendors\")\n",
    "plt.ylabel(\"Days\")\n",
    "plt.legend([\"Average Delivery Time\",\"Actual ETA\"])\n",
    "plt.show()"
   ]
  }
 ],
 "metadata": {
  "kernelspec": {
   "display_name": "Python 3 (ipykernel)",
   "language": "python",
   "name": "python3"
  },
  "language_info": {
   "codemirror_mode": {
    "name": "ipython",
    "version": 3
   },
   "file_extension": ".py",
   "mimetype": "text/x-python",
   "name": "python",
   "nbconvert_exporter": "python",
   "pygments_lexer": "ipython3",
   "version": "3.10.9"
  }
 },
 "nbformat": 4,
 "nbformat_minor": 5
}
